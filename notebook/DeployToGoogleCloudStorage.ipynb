{
  "nbformat": 4,
  "nbformat_minor": 0,
  "metadata": {
    "colab": {
      "name": "DeployToGoogleCloudStorage.ipynb",
      "version": "0.3.2",
      "provenance": [],
      "collapsed_sections": []
    },
    "language_info": {
      "codemirror_mode": {
        "name": "ipython",
        "version": 3
      },
      "file_extension": ".py",
      "mimetype": "text/x-python",
      "name": "python",
      "nbconvert_exporter": "python",
      "pygments_lexer": "ipython3",
      "version": "3.7.2"
    },
    "kernelspec": {
      "display_name": "Python 3",
      "language": "python",
      "name": "python3"
    }
  },
  "cells": [
    {
      "cell_type": "code",
      "metadata": {
        "id": "af7emOociiQx",
        "colab_type": "code",
        "outputId": "7cca053a-0d23-4e84-cc53-2505c641b2eb",
        "colab": {
          "base_uri": "https://localhost:8080/",
          "height": 122
        }
      },
      "source": [
        "from google.colab import drive\n",
        "drive.mount('/content/gdrive')"
      ],
      "execution_count": 0,
      "outputs": [
        {
          "output_type": "stream",
          "text": [
            "Go to this URL in a browser: https://accounts.google.com/o/oauth2/auth?client_id=947318989803-6bn6qk8qdgf4n4g3pfee6491hc0brc4i.apps.googleusercontent.com&redirect_uri=urn%3Aietf%3Awg%3Aoauth%3A2.0%3Aoob&scope=email%20https%3A%2F%2Fwww.googleapis.com%2Fauth%2Fdocs.test%20https%3A%2F%2Fwww.googleapis.com%2Fauth%2Fdrive%20https%3A%2F%2Fwww.googleapis.com%2Fauth%2Fdrive.photos.readonly%20https%3A%2F%2Fwww.googleapis.com%2Fauth%2Fpeopleapi.readonly&response_type=code\n",
            "\n",
            "Enter your authorization code:\n",
            "··········\n",
            "Mounted at /content/gdrive\n"
          ],
          "name": "stdout"
        }
      ]
    },
    {
      "cell_type": "code",
      "metadata": {
        "id": "UvN06wXpiiQ2",
        "colab_type": "code",
        "outputId": "c871cec4-b5ee-4c99-d736-87a498896ff0",
        "colab": {
          "base_uri": "https://localhost:8080/",
          "height": 1207
        }
      },
      "source": [
        "! echo \"Installing Dependencies ...\"\n",
        "! echo \"deb https://dl.bintray.com/sbt/debian /\" | sudo tee -a /etc/apt/sources.list.d/sbt.list\n",
        "! sudo apt-key adv --keyserver hkp://keyserver.ubuntu.com:80 --recv 2EE0EA64E40A89B84B2DF73499E82A75642AC823\n",
        "! sudo apt-get update\n",
        "! sudo apt-get install -y -q llvm-6.0 libtinfo-dev libffi-dev zlib1g-dev clinfo\n",
        "! sudo apt-get install verilator sbt\n"
      ],
      "execution_count": 0,
      "outputs": [
        {
          "output_type": "stream",
          "text": [
            "Installing Dependencies ...\n",
            "deb https://dl.bintray.com/sbt/debian /\n",
            "Executing: /tmp/apt-key-gpghome.1KpXWYEoP4/gpg.1.sh --keyserver hkp://keyserver.ubuntu.com:80 --recv 2EE0EA64E40A89B84B2DF73499E82A75642AC823\n",
            "gpg: key 99E82A75642AC823: public key \"sbt build tool <scalasbt@gmail.com>\" imported\n",
            "gpg: Total number processed: 1\n",
            "gpg:               imported: 1\n",
            "Ign:1 https://developer.download.nvidia.com/compute/cuda/repos/ubuntu1804/x86_64  InRelease\n",
            "Ign:2 https://dl.bintray.com/sbt/debian  InRelease\n",
            "Get:3 https://dl.bintray.com/sbt/debian  Release [815 B]\n",
            "Ign:4 https://developer.download.nvidia.com/compute/machine-learning/repos/ubuntu1804/x86_64  InRelease\n",
            "Hit:5 https://developer.download.nvidia.com/compute/cuda/repos/ubuntu1804/x86_64  Release\n",
            "Get:6 https://dl.bintray.com/sbt/debian  Release.gpg [821 B]\n",
            "Hit:7 https://developer.download.nvidia.com/compute/machine-learning/repos/ubuntu1804/x86_64  Release\n",
            "Hit:9 http://ppa.launchpad.net/graphics-drivers/ppa/ubuntu bionic InRelease\n",
            "Hit:10 http://security.ubuntu.com/ubuntu bionic-security InRelease\n",
            "Hit:11 http://archive.ubuntu.com/ubuntu bionic InRelease\n",
            "Get:12 https://dl.bintray.com/sbt/debian  Packages [3,424 B]\n",
            "Hit:13 http://archive.ubuntu.com/ubuntu bionic-updates InRelease\n",
            "Hit:15 http://ppa.launchpad.net/marutter/c2d4u3.5/ubuntu bionic InRelease\n",
            "Hit:16 http://archive.ubuntu.com/ubuntu bionic-backports InRelease\n",
            "Hit:17 https://cloud.r-project.org/bin/linux/ubuntu bionic-cran35/ InRelease\n",
            "Fetched 5,060 B in 1s (3,826 B/s)\n",
            "Reading package lists... Done\n",
            "Reading package lists...\n",
            "Building dependency tree...\n",
            "Reading state information...\n",
            "libffi-dev is already the newest version (3.2.1-8).\n",
            "llvm-6.0 is already the newest version (1:6.0-1ubuntu2).\n",
            "zlib1g-dev is already the newest version (1:1.2.11.dfsg-0ubuntu2).\n",
            "clinfo is already the newest version (2.2.18.03.26-1).\n",
            "libtinfo-dev is already the newest version (6.1-1ubuntu1.18.04).\n",
            "The following package was automatically installed and is no longer required:\n",
            "  libnvidia-common-410\n",
            "Use 'sudo apt autoremove' to remove it.\n",
            "0 upgraded, 0 newly installed, 0 to remove and 27 not upgraded.\n",
            "Reading package lists... Done\n",
            "Building dependency tree       \n",
            "Reading state information... Done\n",
            "The following package was automatically installed and is no longer required:\n",
            "  libnvidia-common-410\n",
            "Use 'sudo apt autoremove' to remove it.\n",
            "Suggested packages:\n",
            "  gtkwave systemc\n",
            "The following NEW packages will be installed:\n",
            "  sbt verilator\n",
            "0 upgraded, 2 newly installed, 0 to remove and 27 not upgraded.\n",
            "Need to get 4,005 kB of archives.\n",
            "After this operation, 14.4 MB of additional disk space will be used.\n",
            "Get:1 https://dl.bintray.com/sbt/debian  sbt 1.2.8 [1,126 kB]\n",
            "Get:2 http://archive.ubuntu.com/ubuntu bionic/universe amd64 verilator amd64 3.916-1build1 [2,878 kB]\n",
            "Fetched 4,005 kB in 1s (2,913 kB/s)\n",
            "debconf: unable to initialize frontend: Dialog\n",
            "debconf: (No usable dialog-like program is installed, so the dialog based frontend cannot be used. at /usr/share/perl5/Debconf/FrontEnd/Dialog.pm line 76, <> line 2.)\n",
            "debconf: falling back to frontend: Readline\n",
            "debconf: unable to initialize frontend: Readline\n",
            "debconf: (This frontend requires a controlling tty.)\n",
            "debconf: falling back to frontend: Teletype\n",
            "dpkg-preconfigure: unable to re-open stdin: \n",
            "Selecting previously unselected package sbt.\n",
            "(Reading database ... 132546 files and directories currently installed.)\n",
            "Preparing to unpack .../apt/archives/sbt_1.2.8_all.deb ...\n",
            "Unpacking sbt (1.2.8) ...\n",
            "Selecting previously unselected package verilator.\n",
            "Preparing to unpack .../verilator_3.916-1build1_amd64.deb ...\n",
            "Unpacking verilator (3.916-1build1) ...\n",
            "Processing triggers for man-db (2.8.3-2ubuntu0.1) ...\n",
            "Setting up verilator (3.916-1build1) ...\n",
            "Setting up sbt (1.2.8) ...\n",
            "Creating system group: sbt\n",
            "Creating system user: sbt in sbt with sbt daemon-user and shell /bin/false\n"
          ],
          "name": "stdout"
        }
      ]
    },
    {
      "cell_type": "code",
      "metadata": {
        "id": "O6VV6RK8iw_w",
        "colab_type": "code",
        "outputId": "ef1c582b-51f7-4a11-c621-00f228b7e44f",
        "colab": {
          "base_uri": "https://localhost:8080/",
          "height": 34
        }
      },
      "source": [
        "%%bash\n",
        "cd \"/content/gdrive/My Drive\"\n",
        "if [[ ! -e tvm ]]; then\n",
        "    echo \"Cloning TVM ...\"\n",
        "    git clone --recursive https://github.com/uwsampl/tvm\n",
        "    cd tvm\n",
        "    git checkout -b tutorial origin/tutorial\n",
        "    git pull\n",
        "    cd ..\n",
        "else\n",
        "  cd \"/content/gdrive/My Drive/tvm\"\n",
        "  git pull\n",
        "fi \n"
      ],
      "execution_count": 0,
      "outputs": [
        {
          "output_type": "stream",
          "text": [
            "Already up to date.\n"
          ],
          "name": "stdout"
        }
      ]
    },
    {
      "cell_type": "code",
      "metadata": {
        "id": "309FOomu8A5H",
        "colab_type": "code",
        "outputId": "b3b3a1a2-2e34-4e08-b330-ddbf42a07408",
        "colab": {
          "base_uri": "https://localhost:8080/",
          "height": 3264
        }
      },
      "source": [
        "%%bash\n",
        "if [[ ! -f \"tvm/build/config.cmake\" ]]; then\n",
        "  echo \"Configuring Build ...\"\n",
        "  cd \"/content/gdrive/My Drive/tvm\"\n",
        "  mkdir -p build\n",
        "  cp cmake/config.cmake build\n",
        "  # sed -i -e 's/USE_OPONGL OFF/USE_OPONGL ON/g' build/config.cmake\n",
        "  sed -i -e 's/USE_CUDA OFF/USE_CUDA ON/g' build/config.cmake\n",
        "  sed -i -e 's/USE_CUDNN OFF/USE_CUDNN ON/g' build/config.cmake\n",
        "  sed -i -e 's/USE_LLVM OFF/USE_LLVM ON/g' build/config.cmake\n",
        "  cat build/config.cmake\n",
        "  echo \"Running CMake ...\"\n",
        "  cd build\n",
        "  cmake ..\n",
        "fi\n",
        "\n",
        "echo \"Building TVM ...\"\n",
        "make -j4\n",
        "cd ..\n"
      ],
      "execution_count": 0,
      "outputs": [
        {
          "output_type": "stream",
          "text": [
            "Configuring Build ...\n",
            "#--------------------------------------------------------------------\n",
            "#  Template custom cmake configuration for compiling\n",
            "#\n",
            "#  This file is used to override the build options in build.\n",
            "#  If you want to change the configuration, please use the following\n",
            "#  steps. Assume you are on the root directory. First copy the this\n",
            "#  file so that any local changes will be ignored by git\n",
            "#\n",
            "#  $ mkdir build\n",
            "#  $ cp cmake/config.cmake build\n",
            "#\n",
            "#  Next modify the according entries, and then compile by\n",
            "#\n",
            "#  $ cd build\n",
            "#  $ cmake ..\n",
            "#\n",
            "#  Then buld in parallel with 8 threads\n",
            "#\n",
            "#  $ make -j8\n",
            "#--------------------------------------------------------------------\n",
            "\n",
            "#---------------------------------------------\n",
            "# Backend runtimes.\n",
            "#---------------------------------------------\n",
            "\n",
            "# Whether enable CUDA during compile,\n",
            "#\n",
            "# Possible values:\n",
            "# - ON: enable CUDA with cmake's auto search\n",
            "# - OFF: disable CUDA\n",
            "# - /path/to/cuda: use specific path to cuda toolkit\n",
            "set(USE_CUDA ON)\n",
            "\n",
            "# Whether enable ROCM runtime\n",
            "#\n",
            "# Possible values:\n",
            "# - ON: enable ROCM with cmake's auto search\n",
            "# - OFF: disable ROCM\n",
            "# - /path/to/rocm: use specific path to rocm\n",
            "set(USE_ROCM OFF)\n",
            "\n",
            "# Whether enable SDAccel runtime\n",
            "set(USE_SDACCEL OFF)\n",
            "\n",
            "# Whether enable Intel FPGA SDK for OpenCL (AOCL) runtime\n",
            "set(USE_AOCL OFF)\n",
            "\n",
            "# Whether enable OpenCL runtime\n",
            "set(USE_OPENCL OFF)\n",
            "\n",
            "# Whether enable Metal runtime\n",
            "set(USE_METAL OFF)\n",
            "\n",
            "# Whether enable Vulkan runtime\n",
            "#\n",
            "# Possible values:\n",
            "# - ON: enable Vulkan with cmake's auto search\n",
            "# - OFF: disable vulkan\n",
            "# - /path/to/vulkan-sdk: use specific path to vulkan-sdk\n",
            "set(USE_VULKAN OFF)\n",
            "\n",
            "# Whether enable OpenGL runtime\n",
            "set(USE_OPENGL OFF)\n",
            "\n",
            "# Whether to enable SGX runtime\n",
            "#\n",
            "# Possible values for USE_SGX:\n",
            "# - /path/to/sgxsdk: path to Intel SGX SDK\n",
            "# - OFF: disable SGX\n",
            "#\n",
            "# SGX_MODE := HW|SIM\n",
            "set(USE_SGX OFF)\n",
            "set(SGX_MODE \"SIM\")\n",
            "set(RUST_SGX_SDK \"/path/to/rust-sgx-sdk\")\n",
            "\n",
            "# Whether enable RPC runtime\n",
            "set(USE_RPC ON)\n",
            "\n",
            "# Whether embed stackvm into the runtime\n",
            "set(USE_STACKVM_RUNTIME OFF)\n",
            "\n",
            "# Whether enable tiny embedded graph runtime.\n",
            "set(USE_GRAPH_RUNTIME ON)\n",
            "\n",
            "# Whether enable additional graph debug functions\n",
            "set(USE_GRAPH_RUNTIME_DEBUG OFF)\n",
            "\n",
            "# Whether build with LLVM support\n",
            "# Requires LLVM version >= 4.0\n",
            "#\n",
            "# Possible values:\n",
            "# - ON: enable llvm with cmake's find search\n",
            "# - OFF: disable llvm\n",
            "# - /path/to/llvm-config: enable specific LLVM when multiple llvm-dev is available.\n",
            "set(USE_LLVM ON)\n",
            "\n",
            "#---------------------------------------------\n",
            "# Contrib libraries\n",
            "#---------------------------------------------\n",
            "# Whether use BLAS, choices: openblas, mkl, atlas, apple\n",
            "set(USE_BLAS none)\n",
            "\n",
            "# /path/to/mkl: mkl root path when use mkl blas library\n",
            "# set(USE_MKL_PATH /opt/intel/mkl) for UNIX\n",
            "# set(USE_MKL_PATH ../IntelSWTools/compilers_and_libraries_2018/windows/mkl) for WIN32\n",
            "set(USE_MKL_PATH none)\n",
            "\n",
            "# Whether use contrib.random in runtime\n",
            "set(USE_RANDOM OFF)\n",
            "\n",
            "# Whether use NNPack\n",
            "set(USE_NNPACK OFF)\n",
            "\n",
            "# Whether use CuDNN\n",
            "set(USE_CUDNN ON)\n",
            "\n",
            "# Whether use cuBLAS\n",
            "set(USE_CUBLAS OFF)\n",
            "\n",
            "# Whether use MIOpen\n",
            "set(USE_MIOPEN OFF)\n",
            "\n",
            "# Whether use MPS\n",
            "set(USE_MPS OFF)\n",
            "\n",
            "# Whether use rocBlas\n",
            "set(USE_ROCBLAS OFF)\n",
            "\n",
            "# Whether use contrib sort\n",
            "set(USE_SORT ON)\n",
            "\n",
            "# Build ANTLR parser for Relay text format\n",
            "set(USE_ANTLR OFF)\n",
            "\n",
            "# Build TSIM for VTA\n",
            "set(USE_VTA_TSIM ON)\n",
            "\n",
            "# Whether use Relay debug mode\n",
            "set(USE_RELAY_DEBUG OFF)\n",
            "\n",
            "Running CMake ...\n",
            "-- Build with RPC support...\n",
            "-- Build with Graph runtime support...\n",
            "-- Build VTA runtime with target: sim\n",
            "-- Found CUDA_TOOLKIT_ROOT_DIR=/usr/local/cuda\n",
            "-- Found CUDA_CUDA_LIBRARY=/usr/local/cuda/targets/x86_64-linux/lib/stubs/libcuda.so\n",
            "-- Found CUDA_CUDART_LIBRARY=/usr/local/cuda/lib64/libcudart.so\n",
            "-- Found CUDA_NVRTC_LIBRARY=/usr/local/cuda/lib64/libnvrtc.so\n",
            "-- Found CUDA_CUDNN_LIBRARY=/usr/lib/x86_64-linux-gnu/libcudnn.so\n",
            "-- Found CUDA_CUBLAS_LIBRARY=/usr/local/cuda/lib64/libcublas.so\n",
            "-- Build with CUDA support\n",
            "-- Build with cuDNN support\n",
            "-- Link with dynamic LLVM library\n",
            "-- Found LLVM_INCLUDE_DIRS=/usr/lib/llvm-6.0/include\n",
            "-- Found LLVM_DEFINITIONS=-D_GNU_SOURCE -D__STDC_CONSTANT_MACROS -D__STDC_FORMAT_MACROS -D__STDC_LIMIT_MACROS\n",
            "-- Found TVM_LLVM_VERSION=60\n",
            "-- Build with LLVM 6.0.0\n",
            "-- Set TVM_LLVM_VERSION=60\n",
            "-- Build with contrib.sort\n",
            "-- Build with contrib.hybriddump\n",
            "-- Configuring done\n",
            "-- Generating done\n",
            "-- Build files have been written to: /content/gdrive/My Drive/tvm/build\n",
            "Building TVM ...\n",
            "[  0%] Built target vta\n",
            "[ 10%] Built target tvm_runtime\n",
            "[ 86%] Built target tvm\n",
            "[ 86%] Built target tvm_topi\n",
            "[ 98%] Built target nnvm_compiler\n"
          ],
          "name": "stdout"
        },
        {
          "output_type": "stream",
          "text": [
            "CMake Warning (dev) at /usr/local/lib/python2.7/dist-packages/cmake/data/share/cmake-3.12/Modules/FindOpenGL.cmake:270 (message):\n",
            "  Policy CMP0072 is not set: FindOpenGL prefers GLVND by default when\n",
            "  available.  Run \"cmake --help-policy CMP0072\" for policy details.  Use the\n",
            "  cmake_policy command to set the policy and suppress this warning.\n",
            "\n",
            "  FindOpenGL found both a legacy GL library:\n",
            "\n",
            "    OPENGL_gl_LIBRARY: /usr/lib/x86_64-linux-gnu/libGL.so\n",
            "\n",
            "  and GLVND libraries for OpenGL and GLX:\n",
            "\n",
            "    OPENGL_opengl_LIBRARY: /usr/lib/x86_64-linux-gnu/libOpenGL.so\n",
            "    OPENGL_glx_LIBRARY: /usr/lib/x86_64-linux-gnu/libGLX.so\n",
            "\n",
            "  OpenGL_GL_PREFERENCE has not been set to \"GLVND\" or \"LEGACY\", so for\n",
            "  compatibility with CMake 3.10 and below the legacy GL library will be used.\n",
            "Call Stack (most recent call first):\n",
            "  cmake/modules/OpenGL.cmake:18 (find_package)\n",
            "  CMakeLists.txt:192 (include)\n",
            "This warning is for project developers.  Use -Wno-dev to suppress it.\n",
            "\n"
          ],
          "name": "stderr"
        }
      ]
    },
    {
      "cell_type": "code",
      "metadata": {
        "id": "wgmvY8uXno4U",
        "colab_type": "code",
        "outputId": "77a1b18c-d95b-40a5-a5fb-7209c4de6eb0",
        "colab": {
          "base_uri": "https://localhost:8080/",
          "height": 1513
        }
      },
      "source": [
        "%%bash\n",
        "cd \"/content/gdrive/My Drive/tvm\"\n",
        "# rm -rf \"docs\" \"tutorials\"\n",
        "ls -la ../tvm"
      ],
      "execution_count": 0,
      "outputs": [
        {
          "output_type": "stream",
          "text": [
            "total 148\n",
            "drwx------  8 root root  4096 May 31 08:14 3rdparty\n",
            "drwx------  2 root root  4096 May 31 08:14 apps\n",
            "drwx------  3 root root  4096 Jun  4 09:46 build\n",
            "-rw-------  1 root root   292 May 31 08:14 .clang-format\n",
            "drwx------  4 root root  4096 May 31 08:14 cmake\n",
            "-rw-------  1 root root 10406 May 31 08:14 CMakeLists.txt\n",
            "drwx------  2 root root  4096 May 31 08:14 conda\n",
            "-rw-------  1 root root  5673 May 31 08:14 CONTRIBUTORS.md\n",
            "drwx------  2 root root  4096 May 31 08:14 docker\n",
            "drwx------  2 root root  4096 May 31 08:14 docs\n",
            "drwx------  9 root root  4096 Jun  4 08:54 .git\n",
            "drwx------  2 root root  4096 May 31 08:14 .github\n",
            "-rw-------  1 root root  2242 May 31 08:14 .gitignore\n",
            "-rw-------  1 root root   355 May 31 08:14 .gitmodules\n",
            "drwx------  2 root root  4096 May 31 08:14 golang\n",
            "drwx------  3 root root  4096 May 31 08:14 include\n",
            "-rw-------  1 root root 10027 May 31 08:14 Jenkinsfile\n",
            "drwx------  2 root root  4096 May 31 08:14 jvm\n",
            "-rw-------  1 root root 11357 May 31 08:14 LICENSE\n",
            "-rw-------  1 root root  4267 May 31 08:14 Makefile\n",
            "-rw-------  1 root root 10476 May 31 08:14 NEWS.md\n",
            "drwx------  9 root root  4096 May 31 08:14 nnvm\n",
            "-rw-------  1 root root    61 May 31 08:14 NOTICE\n",
            "-rw-------  1 root root   369 Jun  3 22:49 package.sh\n",
            "drwx------  2 root root  4096 May 31 08:14 python\n",
            "-rw-------  1 root root  2705 May 31 08:14 README.md\n",
            "drwx------  2 root root  4096 May 31 08:14 rust\n",
            "drwx------ 14 root root  4096 May 31 08:14 src\n",
            "drwx------  9 root root  4096 May 31 08:14 tests\n",
            "drwx------  7 root root  4096 May 31 08:14 topi\n",
            "drwx------  2 root root  4096 May 31 08:14 tutorials\n",
            "-rw-------  1 root root  2902 May 31 08:14 version.py\n",
            "drwx------ 10 root root  4096 May 31 08:14 vta\n",
            "drwx------  2 root root  4096 May 31 08:14 web\n",
            "total 379354\n",
            "-rw-------  1 root root         1 Sep 12  2018 ada-slide-template.gslides\n",
            "-rw-------  1 root root         1 Dec 18 23:23 Automatic Differentation Design Space.gdoc\n",
            "-rw-------  1 root root   2062029 Jul 23  2018 breakfast_18th.JPG\n",
            "-rw-------  1 root root   1872054 Jul 23  2018 breakfast_19th.JPG\n",
            "-rw-------  1 root root     20874 Feb 16  2017 Candidate Information Doc.xlsx\n",
            "-rw-------  1 root root         1 Feb 16  2017 Candidate Information Doc.xlsx.gsheet\n",
            "-rw-------  1 root root    175552 Jul 23  2018 confirmation.25398.pdf\n",
            "-rw-------  1 root root         1 Dec  2  2015 CSE 590P: Pilsner.gslides\n",
            "-rw-------  1 root root   2061382 Jul 23  2018 dinner_17th.JPG\n",
            "-rw-------  1 root root   2033962 Jul 23  2018 dinner_18th.JPG\n",
            "-rw-------  1 root root   1975314 Jul 23  2018 dinner_19th.JPG\n",
            "-rw-------  1 root root    291518 Jul 23  2018 flight_receipt.pdf\n",
            "-rw-------  1 root root    140382 Jul 23  2018 Folio-A-Attachment.pdf\n",
            "-rw-------  1 root root         1 Jul 27  2016 Housing.gdoc\n",
            "-rw-------  1 root root   1750925 Jun 25  2016 IMG_3644.JPG\n",
            "-rw-------  1 root root   1781174 Jun 25  2016 IMG_3645.JPG\n",
            "drwx------  2 root root      4096 May 31 06:53 .ipynb_checkpoints\n",
            "-rw-------  1 root root  47461978 May 29 22:18 jroesch_ada_webinar_relay.pptx\n",
            "-rw-------  1 root root  54452928 Jan 11 20:01 jroesch_tvm_conf_relay ada.key\n",
            "-rw-------  1 root root  54365957 Dec 20 23:38 jroesch_tvm_conf_relay.key\n",
            "-rw-------  1 root root   1686779 Jul 23  2018 lunch_19th.JPG\n",
            "dr-x------  2 root root      4096 Sep 18  2018 MSR PhD Fellowship Resources\n",
            "-rw-------  1 root root         1 Sep 29  2015 New employee on-line forms - US (3) (3) (1).gdoc\n",
            "-rw-------  1 root root         1 Sep 20  2015 New employee on-line forms - US (3) (3).gdoc\n",
            "-rw-------  1 root root         1 Apr 12  2018 Nvidia Grant.gdoc\n",
            "-rw-------  1 root root    250737 Apr 25 21:52 onnx_from_seatac.pdf\n",
            "-rw-------  1 root root    616943 Apr 25 21:52 onnx_from_sfo.pdf\n",
            "-rw-------  1 root root    615400 Apr 25 21:52 onnx_to_seatac.pdf\n",
            "-rw-------  1 root root    334700 Apr 25 21:52 onnx_to_sfo_uber.pdf\n",
            "-rw-------  1 root root  93251365 Mar 28 09:14 onnx_workshop_03_22_2019.key\n",
            "-rw-------  1 root root         1 Oct 18  2016 Ouroboros: Affiliates .gslides\n",
            "-rw-------  1 root root         1 Sep 12  2016 Ouroboros: PLSE Retreat.gslides\n",
            "-rw-------  1 root root         1 Feb 25 00:45 Overview.gdoc\n",
            "-rw-------  1 root root         1 Feb  1 06:56 PLDI 2019 Relay Rebuttal.gdoc\n",
            "-rw-------  1 root root         1 Nov 30  2017 PLSE Lightning Tal.gslides\n",
            "-rw-------  1 root root         1 Apr  5  2018 PNWPLSE 2018 - PL4ML.gdoc\n",
            "-rw-------  1 root root         1 Mar  4 22:03 Relay Runtime Design Doc.gdoc\n",
            "-rw-------  1 root root    138351 Feb 14 23:33 Roesch_Jared_SAMPL_March_2019.png\n",
            "-rw-------  1 root root     35463 Feb 14 23:13 Roesch_Jared_Tatlock_Decmember_2018.pdf\n",
            "-rw-------  1 root root     74648 Feb 14 23:13 Roesch_Jared_Tatlock_November_2018.pdf\n",
            "-rw-------  1 root root    638550 Mar 10 00:12 sfo_alaksa.pdf\n",
            "-rw-------  1 root root    646464 Apr 25 21:50 sysml_flight.pdf\n",
            "-rw-------  1 root root    263343 Apr 25 21:50 sysml_from_seatac.pdf\n",
            "-rw-------  1 root root    739909 Apr 25 21:50 sysml_to_seatac.pdf\n",
            "-rw-------  1 root root    280470 Apr 25 21:50 sysml_to_sfo.pdf\n",
            "-rw-------  1 root root         1 Mar  4 16:43 TECHCON ABSTRACT.gdoc\n",
            "-rw-------  1 root root         1 Dec 11 17:54 Training Roadmap.gdoc\n",
            "drwx------ 23 root root      4096 May 31 08:14 tvm\n",
            "-rw-------  1 root root 118343680 Jun  3 23:12 tvm.tar.gz\n",
            "-rw-------  1 root root         1 Apr 29 17:46 TVM Tutorial.gdoc\n",
            "-rw-------  1 root root     66229 Feb 25  2017 US Intern Bank Card Request Form.docx\n",
            "-rw-------  1 root root         1 Feb 25  2017 US Intern Bank Card Request Form.docx.gdoc\n"
          ],
          "name": "stdout"
        }
      ]
    },
    {
      "cell_type": "code",
      "metadata": {
        "id": "VX8obwFxkcOy",
        "colab_type": "code",
        "colab": {}
      },
      "source": [
        "%%bash\n",
        "ls -la\n",
        "tar  --exclude=\".*\" -cf \"/content/gdrive/My Drive/tvm.tar.gz\" \"/content/gdrive/My Drive/tvm\" \n",
        "ls -la \"/content/gdrive/My Drive/\"\n"
      ],
      "execution_count": 0,
      "outputs": []
    },
    {
      "cell_type": "code",
      "metadata": {
        "id": "QHBUqz3iiiQ4",
        "colab_type": "code",
        "colab": {}
      },
      "source": [
        "from google.colab import auth\n",
        "auth.authenticate_user()\n",
        "\n",
        "# First, we need to set our project. Replace the assignment below\n",
        "# with your project ID.\n",
        "project_id = 'apache-tvm-binaries'"
      ],
      "execution_count": 0,
      "outputs": []
    },
    {
      "cell_type": "code",
      "metadata": {
        "id": "r3Lpm47xtSPI",
        "colab_type": "code",
        "colab": {}
      },
      "source": [
        "!gcloud config set project {project_id}"
      ],
      "execution_count": 0,
      "outputs": []
    },
    {
      "cell_type": "code",
      "metadata": {
        "id": "VGVIGdKjtTcV",
        "colab_type": "code",
        "colab": {}
      },
      "source": [
        "import uuid\n",
        "\n",
        "# Make a unique bucket to which we'll upload the file.\n",
        "# (GCS buckets are part of a single global namespace.)\n",
        "bucket_name = 'tvm-fcrc-binariesd5fce43e-8373-11e9-bfb6-0242ac1c0002'\n",
        "\n",
        "# This is already created\n",
        "# Full reference: https://cloud.google.com/storage/docs/gsutil/commands/mb\n",
        "# !gsutil mb gs://{bucket_name}"
      ],
      "execution_count": 0,
      "outputs": []
    },
    {
      "cell_type": "code",
      "metadata": {
        "id": "NIlvqSvTvWRZ",
        "colab_type": "code",
        "colab": {}
      },
      "source": [
        "# Copy the file to our new bucket.\n",
        "# Full reference: https://cloud.google.com/storage/docs/gsutil/commands/cp\n",
        "!gsutil cp \"/content/gdrive/My Drive/tvm.tar.gz\" gs://{bucket_name}/\n",
        "!gsutil acl ch -u AllUsers:R gs://{bucket_name}/tvm.tar.gz"
      ],
      "execution_count": 0,
      "outputs": []
    },
    {
      "cell_type": "markdown",
      "metadata": {
        "id": "w6nlxgtpvxDd",
        "colab_type": "text"
      },
      "source": [
        "Check that the upload was sucessful"
      ]
    },
    {
      "cell_type": "code",
      "metadata": {
        "id": "Z0eZAPNVvvTS",
        "colab_type": "code",
        "outputId": "be6850c1-8955-4bbb-85fe-f73eb96a0e7e",
        "colab": {
          "base_uri": "https://localhost:8080/",
          "height": 68
        }
      },
      "source": [
        "# Download the file.\n",
        "!gsutil cp gs://{bucket_name}/tvm.tar.gz /tmp/tvm.tar.gz"
      ],
      "execution_count": 0,
      "outputs": [
        {
          "output_type": "stream",
          "text": [
            "Copying gs://tvm-fcrc-binariesd5fce43e-8373-11e9-bfb6-0242ac1c0002/tvm.tar.gz...\n",
            "- [1 files][112.9 MiB/112.9 MiB]                                                \n",
            "Operation completed over 1 objects/112.9 MiB.                                    \n"
          ],
          "name": "stdout"
        }
      ]
    },
    {
      "cell_type": "code",
      "metadata": {
        "id": "te_bnejiwPTa",
        "colab_type": "code",
        "colab": {}
      },
      "source": [
        "# Print the result to make sure the transfer worked.\n",
        "! rm -rf /tvm\n",
        "! mkdir -p /tvm\n",
        "! tar -xvf /tmp/tvm.tar.gz --strip-components=4 --directory /tvm"
      ],
      "execution_count": 0,
      "outputs": []
    },
    {
      "cell_type": "code",
      "metadata": {
        "id": "9pb6bOnEwT8G",
        "colab_type": "code",
        "outputId": "2a2a995f-1b61-4d2a-ac9d-a53034cf1be3",
        "colab": {
          "base_uri": "https://localhost:8080/",
          "height": 561
        }
      },
      "source": [
        "!ls -la /tvm"
      ],
      "execution_count": 0,
      "outputs": [
        {
          "output_type": "stream",
          "text": [
            "total 164\n",
            "drwxr-xr-x 21 root root  4096 May 31 08:51 .\n",
            "drwxr-xr-x  1 root root  4096 May 31 08:51 ..\n",
            "drwx------  8 root root  4096 May 31 08:14 3rdparty\n",
            "drwx------ 12 root root  4096 May 31 08:14 apps\n",
            "drwx------  3 root root  4096 May 31 08:41 build\n",
            "drwx------  4 root root  4096 May 31 08:14 cmake\n",
            "-rw-------  1 root root 10406 May 31 08:14 CMakeLists.txt\n",
            "drwx------  6 root root  4096 May 31 08:14 conda\n",
            "-rw-------  1 root root  5673 May 31 08:14 CONTRIBUTORS.md\n",
            "drwx------  3 root root  4096 May 31 08:14 docker\n",
            "drwx------ 11 root root  4096 May 31 08:14 docs\n",
            "drwx------  4 root root  4096 May 31 08:14 golang\n",
            "drwx------  3 root root  4096 May 31 08:14 include\n",
            "-rw-------  1 root root 10027 May 31 08:14 Jenkinsfile\n",
            "drwx------  6 root root  4096 May 31 08:14 jvm\n",
            "-rw-------  1 root root 11357 May 31 08:14 LICENSE\n",
            "-rw-------  1 root root  4267 May 31 08:14 Makefile\n",
            "-rw-------  1 root root 10476 May 31 08:14 NEWS.md\n",
            "drwx------  9 root root  4096 May 31 08:14 nnvm\n",
            "-rw-------  1 root root    61 May 31 08:14 NOTICE\n",
            "-rw-------  1 root root    87 May 31 08:14 package.sh\n",
            "drwx------  3 root root  4096 May 31 08:14 python\n",
            "-rw-------  1 root root  2705 May 31 08:14 README.md\n",
            "drwx------  5 root root  4096 May 31 08:14 rust\n",
            "drwx------ 14 root root  4096 May 31 08:14 src\n",
            "drwx------  9 root root  4096 May 31 08:14 tests\n",
            "drwx------  7 root root  4096 May 31 08:14 topi\n",
            "drwx------  8 root root  4096 May 31 08:14 tutorials\n",
            "-rw-------  1 root root  2902 May 31 08:14 version.py\n",
            "drwx------ 10 root root  4096 May 31 08:14 vta\n",
            "drwx------  2 root root  4096 May 31 08:14 web\n"
          ],
          "name": "stdout"
        }
      ]
    },
    {
      "cell_type": "code",
      "metadata": {
        "id": "iRi8_4qNygES",
        "colab_type": "code",
        "colab": {}
      },
      "source": [
        "import sys\n",
        "sys.path.append('/tvm/python')\n",
        "sys.path.append('/tvm/topi/python')\n"
      ],
      "execution_count": 0,
      "outputs": []
    },
    {
      "cell_type": "code",
      "metadata": {
        "id": "oGBKp-aby47_",
        "colab_type": "code",
        "outputId": "6ab5e57f-cba4-45c2-bfe3-afb97992b31f",
        "colab": {
          "base_uri": "https://localhost:8080/",
          "height": 51
        }
      },
      "source": [
        "import tvm\n",
        "print(tvm)\n",
        "import topi\n",
        "print(topi)"
      ],
      "execution_count": 0,
      "outputs": [
        {
          "output_type": "stream",
          "text": [
            "<module 'tvm' from '/tvm/python/tvm/__init__.py'>\n",
            "<module 'topi' from '/tvm/topi/python/topi/__init__.py'>\n"
          ],
          "name": "stdout"
        }
      ]
    },
    {
      "cell_type": "markdown",
      "metadata": {
        "id": "-30F--CieuIn",
        "colab_type": "text"
      },
      "source": [
        "Build with tsim support"
      ]
    },
    {
      "cell_type": "code",
      "metadata": {
        "id": "DWOj48ipe1wM",
        "colab_type": "code",
        "colab": {}
      },
      "source": [
        "%%bash\n",
        "bucket_name=tvm-fcrc-binariesd5fce43e-8373-11e9-bfb6-0242ac1c0002\n",
        "cd \"/content/gdrive/My Drive/tvm\"\n",
        "sed -i 's/\"sim\"/\"tsim\"/g' vta/config/vta_config.json\n",
        "cd \"/content/gdrive/My Drive/tvm/build\"\n",
        "cmake ..\n",
        "\n",
        "echo \"Building TVM with TSIM...\"\n",
        "make -j4\n",
        "cd \"/content/gdrive/My Drive/tvm\"\n",
        "\n",
        "tar  --exclude=\".*\" -cf \"/content/gdrive/My Drive/tvm.tsim.tar.gz\" \"/content/gdrive/My Drive/tvm\"\n",
        "gsutil cp \"/content/gdrive/My Drive/tvm.tsim.tar.gz\" gs://$bucket_name/\n",
        "gsutil acl ch -u AllUsers:R gs://$bucket_name/tvm.tsim.tar.gz\n",
        "gsutil cp gs://$bucket_name/tvm.tsim.tar.gz /tmp/tvm.tsim.tar.gz\n",
        "\n",
        "rm -rf /tvm\n",
        "mkdir -p /tvm\n",
        "tar -xvf /tmp/tvm.tsim.tar.gz --strip-components=4 --directory /tvm"
      ],
      "execution_count": 0,
      "outputs": []
    },
    {
      "cell_type": "markdown",
      "metadata": {
        "id": "zfq3RG3ke2vV",
        "colab_type": "text"
      },
      "source": [
        "Test if tvm-tsim was built correctly"
      ]
    },
    {
      "cell_type": "code",
      "metadata": {
        "id": "Sqrso1P4e5FY",
        "colab_type": "code",
        "colab": {}
      },
      "source": [
        "import tvm\n",
        "print(tvm)\n",
        "import topi\n",
        "print(topi)"
      ],
      "execution_count": 0,
      "outputs": []
    }
  ]
}